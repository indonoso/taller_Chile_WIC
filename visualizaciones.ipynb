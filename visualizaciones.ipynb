{
 "cells": [
  {
   "cell_type": "code",
   "execution_count": 1,
   "metadata": {},
   "outputs": [],
   "source": [
    "import pandas as pd\n",
    "import altair as alt"
   ]
  },
  {
   "cell_type": "markdown",
   "metadata": {},
   "source": [
    "Leer los datos"
   ]
  },
  {
   "cell_type": "code",
   "execution_count": 15,
   "metadata": {},
   "outputs": [],
   "source": [
    "df = pd.read_csv(\"dataset_ejemplos.csv\")"
   ]
  },
  {
   "cell_type": "code",
   "execution_count": 16,
   "metadata": {},
   "outputs": [
    {
     "data": {
      "text/html": [
       "<div>\n",
       "<style scoped>\n",
       "    .dataframe tbody tr th:only-of-type {\n",
       "        vertical-align: middle;\n",
       "    }\n",
       "\n",
       "    .dataframe tbody tr th {\n",
       "        vertical-align: top;\n",
       "    }\n",
       "\n",
       "    .dataframe thead th {\n",
       "        text-align: right;\n",
       "    }\n",
       "</style>\n",
       "<table border=\"1\" class=\"dataframe\">\n",
       "  <thead>\n",
       "    <tr style=\"text-align: right;\">\n",
       "      <th></th>\n",
       "      <th>nombre</th>\n",
       "      <th>n_noticias_HH</th>\n",
       "      <th>n_noticias_HM</th>\n",
       "      <th>n_noticias_MM</th>\n",
       "      <th>genero</th>\n",
       "      <th>n_discursos</th>\n",
       "      <th>segundos_discursos</th>\n",
       "      <th>efectividad_voto</th>\n",
       "    </tr>\n",
       "  </thead>\n",
       "  <tbody>\n",
       "    <tr>\n",
       "      <th>0</th>\n",
       "      <td>Adolfo Millabur</td>\n",
       "      <td>0</td>\n",
       "      <td>9</td>\n",
       "      <td>0</td>\n",
       "      <td>H</td>\n",
       "      <td>6</td>\n",
       "      <td>780</td>\n",
       "      <td>0.777898</td>\n",
       "    </tr>\n",
       "    <tr>\n",
       "      <th>1</th>\n",
       "      <td>Adriana Ampuero</td>\n",
       "      <td>0</td>\n",
       "      <td>1</td>\n",
       "      <td>1</td>\n",
       "      <td>M</td>\n",
       "      <td>9</td>\n",
       "      <td>1409</td>\n",
       "      <td>0.788732</td>\n",
       "    </tr>\n",
       "    <tr>\n",
       "      <th>2</th>\n",
       "      <td>Adriana Cancino</td>\n",
       "      <td>0</td>\n",
       "      <td>1</td>\n",
       "      <td>0</td>\n",
       "      <td>M</td>\n",
       "      <td>0</td>\n",
       "      <td>0</td>\n",
       "      <td>0.855905</td>\n",
       "    </tr>\n",
       "    <tr>\n",
       "      <th>3</th>\n",
       "      <td>Agustín Squella</td>\n",
       "      <td>0</td>\n",
       "      <td>1</td>\n",
       "      <td>0</td>\n",
       "      <td>H</td>\n",
       "      <td>4</td>\n",
       "      <td>467</td>\n",
       "      <td>0.669556</td>\n",
       "    </tr>\n",
       "    <tr>\n",
       "      <th>4</th>\n",
       "      <td>Alejandra Flores</td>\n",
       "      <td>0</td>\n",
       "      <td>13</td>\n",
       "      <td>1</td>\n",
       "      <td>M</td>\n",
       "      <td>5</td>\n",
       "      <td>594</td>\n",
       "      <td>0.851571</td>\n",
       "    </tr>\n",
       "    <tr>\n",
       "      <th>...</th>\n",
       "      <td>...</td>\n",
       "      <td>...</td>\n",
       "      <td>...</td>\n",
       "      <td>...</td>\n",
       "      <td>...</td>\n",
       "      <td>...</td>\n",
       "      <td>...</td>\n",
       "      <td>...</td>\n",
       "    </tr>\n",
       "    <tr>\n",
       "      <th>150</th>\n",
       "      <td>Javier Fuchslocher</td>\n",
       "      <td>0</td>\n",
       "      <td>0</td>\n",
       "      <td>0</td>\n",
       "      <td>H</td>\n",
       "      <td>7</td>\n",
       "      <td>749</td>\n",
       "      <td>0.800650</td>\n",
       "    </tr>\n",
       "    <tr>\n",
       "      <th>151</th>\n",
       "      <td>Mariela Serey</td>\n",
       "      <td>0</td>\n",
       "      <td>0</td>\n",
       "      <td>0</td>\n",
       "      <td>M</td>\n",
       "      <td>6</td>\n",
       "      <td>507</td>\n",
       "      <td>0.915493</td>\n",
       "    </tr>\n",
       "    <tr>\n",
       "      <th>152</th>\n",
       "      <td>Tania Madriaga</td>\n",
       "      <td>0</td>\n",
       "      <td>0</td>\n",
       "      <td>0</td>\n",
       "      <td>M</td>\n",
       "      <td>12</td>\n",
       "      <td>1215</td>\n",
       "      <td>0.797400</td>\n",
       "    </tr>\n",
       "    <tr>\n",
       "      <th>153</th>\n",
       "      <td>Tomás Laibe</td>\n",
       "      <td>0</td>\n",
       "      <td>0</td>\n",
       "      <td>0</td>\n",
       "      <td>H</td>\n",
       "      <td>29</td>\n",
       "      <td>2337</td>\n",
       "      <td>0.834236</td>\n",
       "    </tr>\n",
       "    <tr>\n",
       "      <th>154</th>\n",
       "      <td>Wilfredo Bacian</td>\n",
       "      <td>0</td>\n",
       "      <td>0</td>\n",
       "      <td>0</td>\n",
       "      <td>H</td>\n",
       "      <td>6</td>\n",
       "      <td>1796</td>\n",
       "      <td>0.782232</td>\n",
       "    </tr>\n",
       "  </tbody>\n",
       "</table>\n",
       "<p>155 rows × 8 columns</p>\n",
       "</div>"
      ],
      "text/plain": [
       "                 nombre  n_noticias_HH  n_noticias_HM  n_noticias_MM genero  \\\n",
       "0       Adolfo Millabur              0              9              0      H   \n",
       "1       Adriana Ampuero              0              1              1      M   \n",
       "2       Adriana Cancino              0              1              0      M   \n",
       "3       Agustín Squella              0              1              0      H   \n",
       "4      Alejandra Flores              0             13              1      M   \n",
       "..                  ...            ...            ...            ...    ...   \n",
       "150  Javier Fuchslocher              0              0              0      H   \n",
       "151       Mariela Serey              0              0              0      M   \n",
       "152      Tania Madriaga              0              0              0      M   \n",
       "153         Tomás Laibe              0              0              0      H   \n",
       "154     Wilfredo Bacian              0              0              0      H   \n",
       "\n",
       "     n_discursos  segundos_discursos  efectividad_voto  \n",
       "0              6                 780          0.777898  \n",
       "1              9                1409          0.788732  \n",
       "2              0                   0          0.855905  \n",
       "3              4                 467          0.669556  \n",
       "4              5                 594          0.851571  \n",
       "..           ...                 ...               ...  \n",
       "150            7                 749          0.800650  \n",
       "151            6                 507          0.915493  \n",
       "152           12                1215          0.797400  \n",
       "153           29                2337          0.834236  \n",
       "154            6                1796          0.782232  \n",
       "\n",
       "[155 rows x 8 columns]"
      ]
     },
     "execution_count": 16,
     "metadata": {},
     "output_type": "execute_result"
    }
   ],
   "source": [
    "df.head()"
   ]
  },
  {
   "cell_type": "markdown",
   "metadata": {},
   "source": [
    "# Preguntas"
   ]
  },
  {
   "cell_type": "markdown",
   "metadata": {},
   "source": [
    "## ¿Hay una relación entre cuánto habla los convencionales con la cantidad de veces que aparecen en los medios?"
   ]
  },
  {
   "cell_type": "code",
   "execution_count": null,
   "metadata": {},
   "outputs": [],
   "source": []
  },
  {
   "cell_type": "markdown",
   "metadata": {},
   "source": [
    "## ¿Cuál es la efectividad del voto de hombres versus mujeres?"
   ]
  },
  {
   "cell_type": "code",
   "execution_count": null,
   "metadata": {},
   "outputs": [],
   "source": []
  },
  {
   "cell_type": "markdown",
   "metadata": {},
   "source": [
    "## ¿Las mujeres piden más o menos la palabra?"
   ]
  },
  {
   "cell_type": "code",
   "execution_count": null,
   "metadata": {},
   "outputs": [],
   "source": []
  },
  {
   "cell_type": "markdown",
   "metadata": {},
   "source": [
    "## ¿Cómo es la aparición en los medios de comunicación?"
   ]
  },
  {
   "cell_type": "code",
   "execution_count": null,
   "metadata": {},
   "outputs": [],
   "source": []
  },
  {
   "cell_type": "markdown",
   "metadata": {},
   "source": [
    "# Template de html"
   ]
  },
  {
   "cell_type": "code",
   "execution_count": 13,
   "metadata": {},
   "outputs": [],
   "source": [
    "template_html = \"\"\"\n",
    "<!DOCTYPE html>\n",
    "<html>\n",
    "<head>\n",
    "    <script src=\"https://cdn.jsdelivr.net/npm/vega@{vega_version}\"></script>\n",
    "    <script src=\"https://cdn.jsdelivr.net/npm/vega-lite@{vegalite_version}\"></script>\n",
    "    <script src=\"https://cdn.jsdelivr.net/npm/vega-embed@{vegaembed_version}\"></script>\n",
    "    <link rel=\"stylesheet\" href=\"https://stackpath.bootstrapcdn.com/bootstrap/4.4.1/css/bootstrap.min.css\"\n",
    "          integrity=\"sha384-Vkoo8x4CGsO3+Hhxv8T/Q5PaXtkKtu6ug5TOeNV6gBiFeWPGFN9MuhOf23Q9Ifjh\" crossorigin=\"anonymous\">\n",
    "</head>\n",
    "<body>\n",
    "<div class=\"container\">\n",
    "    <h1> Visualizaciones de la convención</h1>\n",
    "    <p>Estas visualizaciones las creamos durante el taller de Plataforma Telar</p>\n",
    "    <div class=\"row\">\n",
    "        <div class=\"col\">\n",
    "            <h3>¿Hay una relación entre cuánto habla los convencionales con la cantidad de veces que aparecen en los\n",
    "                medios?</h3>\n",
    "            <div id=\"vis1\"></div>\n",
    "        </div>\n",
    "        <div class=\"col\">\n",
    "            <h3>¿Cuál es la efectividad del voto de hombres versus mujeres?</h3>\n",
    "            <div id=\"vis2\"></div>\n",
    "        </div>\n",
    "    </div>\n",
    "    <div class=\"row\">\n",
    "        <div class=\"col\">\n",
    "            <h3>¿Las mujeres piden más o menos la palabra?</h3>\n",
    "            <div id=\"vis3\"></div>\n",
    "        </div>\n",
    "\n",
    "        <div class=\"col\">\n",
    "            <h3>¿Cómo es la aparición en los medios de comunicación?</h3>\n",
    "            <div id=\"vis4\"></div>\n",
    "        </div>\n",
    "    </div>\n",
    "</div>\n",
    "\n",
    "<script type=\"text/javascript\">\n",
    "  vegaEmbed('#vis1', {spec1}).catch(console.error);\n",
    "  vegaEmbed('#vis2', {spec2}).catch(console.error);\n",
    "  vegaEmbed('#vis3', {spec3}).catch(console.error);\n",
    "  vegaEmbed('#vis4', {spec4}).catch(console.error);\n",
    "</script>\n",
    "</body>\n",
    "</html>\n",
    "\n",
    "\"\"\""
   ]
  },
  {
   "cell_type": "code",
   "execution_count": 14,
   "metadata": {},
   "outputs": [],
   "source": [
    "with open('charts.html', 'w') as f:\n",
    "    f.write(template_html.format(\n",
    "        vega_version=alt.VEGA_VERSION,\n",
    "        vegalite_version=alt.VEGALITE_VERSION,\n",
    "        vegaembed_version=alt.VEGAEMBED_VERSION,\n",
    "        spec1=chart1.to_json(indent=None),\n",
    "        spec2=chart2.to_json(indent=None),\n",
    "        spec3=chart3.to_json(indent=None),\n",
    "        spec4=chart4.to_json(indent=None),\n",
    "    ))"
   ]
  }
 ],
 "metadata": {
  "kernelspec": {
   "display_name": "Python 3",
   "language": "python",
   "name": "python3"
  },
  "language_info": {
   "codemirror_mode": {
    "name": "ipython",
    "version": 3
   },
   "file_extension": ".py",
   "mimetype": "text/x-python",
   "name": "python",
   "nbconvert_exporter": "python",
   "pygments_lexer": "ipython3",
   "version": "3.6.9"
  }
 },
 "nbformat": 4,
 "nbformat_minor": 4
}
